{
  "metadata": {
    "kernelspec": {
      "display_name": "Python 3",
      "language": "python",
      "name": "python3"
    },
    "language_info": {
      "codemirror_mode": {
        "name": "ipython",
        "version": 3
      },
      "file_extension": ".py",
      "mimetype": "text/x-python",
      "name": "python",
      "nbconvert_exporter": "python",
      "pygments_lexer": "ipython3",
      "version": "3.6.0"
    }
  },
  "nbformat": 4,
  "nbformat_minor": 0,
  "cells": [
    {
      "cell_type": "markdown",
      "source": "**Overall**\n-----------------------",
      "metadata": {}
    },
    {
      "cell_type": "code",
      "source": "# This Python 3 environment comes with many helpful analytics libraries installed\n# It is defined by the kaggle/python docker image: https://github.com/kaggle/docker-python\n# For example, here's several helpful packages to load in \n\nimport numpy as np # linear algebra\nimport pandas as pd # data processing, CSV file I/O (e.g. pd.read_csv)\n\n# Input data files are available in the \"../input/\" directory.\n# For example, running this (by clicking run or pressing Shift+Enter) will list the files in the input directory\n\nfrom subprocess import check_output\nprint(check_output([\"ls\", \"../input\"]).decode(\"utf8\"))\n\n# Any results you write to the current directory are saved as output.",
      "execution_count": null,
      "outputs": [],
      "metadata": {}
    },
    {
      "cell_type": "code",
      "source": "df = pd.read_csv('../input/train.csv')\n#df.drop('SalePrice', axis = 1, inplace = True)\n#test = pd.read_csv('../input/test.csv')\n#df = df.append(test, ignore_index = True)\ndf.head()",
      "execution_count": null,
      "outputs": [],
      "metadata": {}
    },
    {
      "cell_type": "code",
      "source": "\ndf.describe()",
      "execution_count": null,
      "outputs": [],
      "metadata": {}
    },
    {
      "cell_type": "code",
      "source": "df.columns",
      "execution_count": null,
      "outputs": [],
      "metadata": {}
    },
    {
      "cell_type": "code",
      "source": "import seaborn as sns\nimport matplotlib.pyplot as plt\n%matplotlib inline  ",
      "execution_count": null,
      "outputs": [],
      "metadata": {}
    },
    {
      "cell_type": "code",
      "source": "print(\"Some Statistics of the Housing Price:\\n\")\nprint(df['SalePrice'].describe())\nprint(\"\\nThe median of the Housing Price is: \", df['SalePrice'].median(axis = 0))",
      "execution_count": null,
      "outputs": [],
      "metadata": {}
    },
    {
      "cell_type": "code",
      "source": "sns.distplot(df['SalePrice'], kde = False, color = 'b', hist_kws={'alpha': 0.9})",
      "execution_count": null,
      "outputs": [],
      "metadata": {}
    },
    {
      "cell_type": "markdown",
      "source": "Numerical Features\n--------------------",
      "metadata": {}
    },
    {
      "cell_type": "code",
      "source": "corr = df.select_dtypes(include = ['float64', 'int64']).iloc[:, 1:].corr()\nplt.figure(figsize=(12, 12))\nsns.heatmap(corr, vmax=1, square=True)",
      "execution_count": null,
      "outputs": [],
      "metadata": {}
    },
    {
      "cell_type": "code",
      "source": "cor_dict = corr['SalePrice'].to_dict()\ndel cor_dict['SalePrice']\nprint(\"List the numerical features decendingly by their correlation with Sale Price:\\n\")\nfor ele in sorted(cor_dict.items(), key = lambda x: -abs(x[1])):\n    print(\"{0}: \\t{1}\".format(*ele))",
      "execution_count": null,
      "outputs": [],
      "metadata": {}
    },
    {
      "cell_type": "markdown",
      "source": "The housing price correlates strongly with **OverallQual, GrLivArea(GarageCars), GargeArea, TotalBsmtSF, 1stFlrSF, FullBath, TotRmsAbvGrd, YearBuilt, YearRemodAdd, GargeYrBlt, MasVnrArea and Fireplaces.** But some of those features are highly correlated among each others.",
      "metadata": {}
    },
    {
      "cell_type": "code",
      "source": "sns.regplot(x = 'OverallQual', y = 'SalePrice', data = df, color = 'Orange')",
      "execution_count": null,
      "outputs": [],
      "metadata": {}
    },
    {
      "cell_type": "code",
      "source": "plt.figure(1)\nf, axarr = plt.subplots(3, 2, figsize=(10, 9))\nprice = df.SalePrice.values\naxarr[0, 0].scatter(df.GrLivArea.values, price)\naxarr[0, 0].set_title('GrLiveArea')\naxarr[0, 1].scatter(df.GarageArea.values, price)\naxarr[0, 1].set_title('GarageArea')\naxarr[1, 0].scatter(df.TotalBsmtSF.values, price)\naxarr[1, 0].set_title('TotalBsmtSF')\naxarr[1, 1].scatter(df['1stFlrSF'].values, price)\naxarr[1, 1].set_title('1stFlrSF')\naxarr[2, 0].scatter(df.TotRmsAbvGrd.values, price)\naxarr[2, 0].set_title('TotRmsAbvGrd')\naxarr[2, 1].scatter(df.MasVnrArea.values, price)\naxarr[2, 1].set_title('MasVnrArea')\nf.text(-0.01, 0.5, 'Sale Price', va='center', rotation='vertical', fontsize = 12)\nplt.tight_layout()\nplt.show()",
      "execution_count": null,
      "outputs": [],
      "metadata": {}
    },
    {
      "cell_type": "code",
      "source": "fig = plt.figure(2, figsize=(9, 7))\nplt.subplot(211)\nplt.scatter(df.YearBuilt.values, price)\nplt.title('YearBuilt')\n\nplt.subplot(212)\nplt.scatter(df.YearRemodAdd.values, price)\nplt.title('YearRemodAdd')\n\nfig.text(-0.01, 0.5, 'Sale Price', va = 'center', rotation = 'vertical', fontsize = 12)\n\nplt.tight_layout()",
      "execution_count": null,
      "outputs": [],
      "metadata": {}
    },
    {
      "cell_type": "markdown",
      "source": "## Categorical Features ##",
      "metadata": {}
    },
    {
      "cell_type": "code",
      "source": "print(df.select_dtypes(include=['object']).columns.values)",
      "execution_count": null,
      "outputs": [],
      "metadata": {}
    },
    {
      "cell_type": "markdown",
      "source": " * **Neighborhood**",
      "metadata": {}
    },
    {
      "cell_type": "code",
      "source": "plt.figure(figsize = (12, 6))\nsns.boxplot(x = 'Neighborhood', y = 'SalePrice',  data = df)\nxt = plt.xticks(rotation=45)",
      "execution_count": null,
      "outputs": [],
      "metadata": {}
    },
    {
      "cell_type": "code",
      "source": "plt.figure(figsize = (12, 6))\nsns.countplot(x = 'Neighborhood', data = df)\nxt = plt.xticks(rotation=45)",
      "execution_count": null,
      "outputs": [],
      "metadata": {}
    },
    {
      "cell_type": "markdown",
      "source": "Could group those Neighborhoods with similar housing price into a same bucket for dimension-reduction.",
      "metadata": {}
    },
    {
      "cell_type": "markdown",
      "source": "**Housing Price vs Sales**\n \n - Sale Type & Condition\n - Sales Seasonality",
      "metadata": {}
    },
    {
      "cell_type": "code",
      "source": "fig, ax = plt.subplots(2, 1, figsize = (10, 6))\nsns.boxplot(x = 'SaleType', y = 'SalePrice', data = df, ax = ax[0])\nsns.boxplot(x = 'SaleCondition', y = 'SalePrice', data = df, ax = ax[1])\nplt.tight_layout()",
      "execution_count": null,
      "outputs": [],
      "metadata": {}
    },
    {
      "cell_type": "code",
      "source": "g = sns.FacetGrid(df, col = 'YrSold', col_wrap = 3)\ng.map(sns.boxplot, 'MoSold', 'SalePrice', palette='Set2', order = range(1, 13))\\\n.set(ylim = (0, 500000))\nplt.tight_layout()",
      "execution_count": null,
      "outputs": [],
      "metadata": {}
    },
    {
      "cell_type": "markdown",
      "source": "Sale's timing does not seem to hugely affect the house. ",
      "metadata": {}
    },
    {
      "cell_type": "markdown",
      "source": " * **Housing Style**",
      "metadata": {}
    },
    {
      "cell_type": "code",
      "source": "fig, ax = plt.subplots(2, 1, figsize = (10, 8))\nsns.boxplot(x = 'BldgType', y = 'SalePrice', data = df, ax = ax[0])\nsns.boxplot(x = 'HouseStyle', y = 'SalePrice', data = df, ax = ax[1])",
      "execution_count": null,
      "outputs": [],
      "metadata": {}
    },
    {
      "cell_type": "markdown",
      "source": " * **Housing Condition**",
      "metadata": {}
    },
    {
      "cell_type": "code",
      "source": "fig, ax = plt.subplots(2, 1, figsize = (10, 8))\nsns.boxplot(x = 'Condition1', y = 'SalePrice', data = df, ax = ax[0])\nsns.boxplot(x = 'Exterior1st', y = 'SalePrice', data = df, ax = ax[1])\nx = plt.xticks(rotation = 45)\nplt.show()",
      "execution_count": null,
      "outputs": [],
      "metadata": {}
    },
    {
      "cell_type": "markdown",
      "source": " * **Basement Conditions**",
      "metadata": {}
    },
    {
      "cell_type": "code",
      "source": "fig, ax = plt.subplots(2, 2, figsize = (10, 8))\nsns.boxplot('BsmtCond', 'SalePrice', data = df, ax = ax[0, 0])\nsns.boxplot('BsmtQual', 'SalePrice', data = df, ax = ax[0, 1])\nsns.boxplot('BsmtExposure', 'SalePrice', data = df, ax = ax[1, 0])\nsns.boxplot('BsmtFinType1', 'SalePrice', data = df, ax = ax[1, 1])",
      "execution_count": null,
      "outputs": [],
      "metadata": {}
    },
    {
      "cell_type": "markdown",
      "source": " * **Home Functionality** ",
      "metadata": {}
    },
    {
      "cell_type": "code",
      "source": "sns.violinplot('Functional', 'SalePrice', data = df)",
      "execution_count": null,
      "outputs": [],
      "metadata": {}
    },
    {
      "cell_type": "markdown",
      "source": "* **FirePlaceQu**",
      "metadata": {}
    },
    {
      "cell_type": "code",
      "source": "sns.factorplot('FireplaceQu', 'SalePrice', data = df, color = 'm', \\\n               estimator = np.median, order = ['Ex', 'Gd', 'TA', 'Fa', 'Po'], size = 4.5,  aspect=1.35)",
      "execution_count": null,
      "outputs": [],
      "metadata": {}
    },
    {
      "cell_type": "code",
      "source": "pd.crosstab(df.Fireplaces, df.FireplaceQu)",
      "execution_count": null,
      "outputs": [],
      "metadata": {}
    },
    {
      "cell_type": "code",
      "source": "g = sns.FacetGrid(df, col = 'FireplaceQu', col_wrap = 3, col_order=['Ex', 'Gd', 'TA', 'Fa', 'Po'])\ng.map(sns.boxplot, 'Fireplaces', 'SalePrice', order = [1, 2, 3], palette = 'Set2')",
      "execution_count": null,
      "outputs": [],
      "metadata": {}
    },
    {
      "cell_type": "markdown",
      "source": " * **Heating**\n\nAmes is a cold place in winter, so heating (as well as fireplace qualities) are quite important.",
      "metadata": {}
    },
    {
      "cell_type": "code",
      "source": "pd.crosstab(df.HeatingQC, df.CentralAir)",
      "execution_count": null,
      "outputs": [],
      "metadata": {}
    },
    {
      "cell_type": "code",
      "source": "pd.crosstab(df.HeatingQC, df.FireplaceQu)",
      "execution_count": null,
      "outputs": [],
      "metadata": {}
    },
    {
      "cell_type": "code",
      "source": "\nsns.factorplot('HeatingQC', 'SalePrice', hue = 'CentralAir', estimator = np.mean, data = df, \n             size = 4.5, aspect = 1.4)",
      "execution_count": null,
      "outputs": [],
      "metadata": {}
    },
    {
      "cell_type": "markdown",
      "source": "Clearly, having AC or not has a big impact on housing price.   ",
      "metadata": {}
    },
    {
      "cell_type": "code",
      "source": "fig, ax = plt.subplots(1, 2, figsize = (10, 4))\nsns.boxplot('Electrical', 'SalePrice', data = df, ax = ax[0]).set(ylim = (0, 400000))\nsns.countplot('Electrical', data = df)\nplt.tight_layout()",
      "execution_count": null,
      "outputs": [],
      "metadata": {}
    },
    {
      "cell_type": "markdown",
      "source": " * **Kitchen Quality**",
      "metadata": {}
    },
    {
      "cell_type": "code",
      "source": "sns.factorplot('KitchenQual', 'SalePrice', estimator = np.mean, \n               size = 4.5, aspect = 1.4, data = df, order = ['Ex', 'Gd', 'TA', 'Fa'])",
      "execution_count": null,
      "outputs": [],
      "metadata": {}
    },
    {
      "cell_type": "markdown",
      "source": " * **MSZonig**",
      "metadata": {}
    },
    {
      "cell_type": "code",
      "source": "sns.boxplot(x = 'MSZoning', y = 'SalePrice', data = df)",
      "execution_count": null,
      "outputs": [],
      "metadata": {}
    },
    {
      "cell_type": "markdown",
      "source": " * **Street & Alley Access**",
      "metadata": {}
    },
    {
      "cell_type": "code",
      "source": "\nfig, ax = plt.subplots(1, 2, figsize = (10, 4))\nsns.boxplot(x = 'Street', y = 'SalePrice', data = df, ax = ax[0])\nsns.boxplot(x = 'Alley', y = 'SalePrice', data = df, ax = ax[1])\nplt.tight_layout()",
      "execution_count": null,
      "outputs": [],
      "metadata": {}
    },
    {
      "cell_type": "code",
      "source": "print(\"The NA's in Alley is: \", df['Alley'].isnull().sum())\nprint(\"\\nThere are so many NA's in Alley. When Alley is NA, Street = \", \n      df[df.Alley.notnull()].Street.unique())\nprint(\"\\n\", pd.crosstab(df.Street, df.Alley))",
      "execution_count": null,
      "outputs": [],
      "metadata": {}
    },
    {
      "cell_type": "code",
      "source": "",
      "execution_count": null,
      "outputs": [],
      "metadata": {}
    }
  ]
}