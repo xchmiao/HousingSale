{
 "cells": [
  {
   "cell_type": "code",
   "execution_count": 141,
   "metadata": {
    "collapsed": true
   },
   "outputs": [],
   "source": [
    "import pandas as pd\n",
    "import numpy as np\n",
    "import seaborn as sns\n",
    "import matplotlib.pyplot as plt\n",
    "from scipy.stats import skew\n",
    "%matplotlib inline"
   ]
  },
  {
   "cell_type": "code",
   "execution_count": 142,
   "metadata": {
    "collapsed": false
   },
   "outputs": [
    {
     "data": {
      "text/html": [
       "<div>\n",
       "<table border=\"1\" class=\"dataframe\">\n",
       "  <thead>\n",
       "    <tr style=\"text-align: right;\">\n",
       "      <th></th>\n",
       "      <th>MSSubClass</th>\n",
       "      <th>MSZoning</th>\n",
       "      <th>LotFrontage</th>\n",
       "      <th>LotArea</th>\n",
       "      <th>Street</th>\n",
       "      <th>Alley</th>\n",
       "      <th>LotShape</th>\n",
       "      <th>LandContour</th>\n",
       "      <th>Utilities</th>\n",
       "      <th>LotConfig</th>\n",
       "      <th>...</th>\n",
       "      <th>PoolArea</th>\n",
       "      <th>PoolQC</th>\n",
       "      <th>Fence</th>\n",
       "      <th>MiscFeature</th>\n",
       "      <th>MiscVal</th>\n",
       "      <th>MoSold</th>\n",
       "      <th>YrSold</th>\n",
       "      <th>SaleType</th>\n",
       "      <th>SaleCondition</th>\n",
       "      <th>SalePrice</th>\n",
       "    </tr>\n",
       "  </thead>\n",
       "  <tbody>\n",
       "    <tr>\n",
       "      <th>0</th>\n",
       "      <td>60</td>\n",
       "      <td>RL</td>\n",
       "      <td>65.0</td>\n",
       "      <td>8450</td>\n",
       "      <td>Pave</td>\n",
       "      <td>NaN</td>\n",
       "      <td>Reg</td>\n",
       "      <td>Lvl</td>\n",
       "      <td>AllPub</td>\n",
       "      <td>Inside</td>\n",
       "      <td>...</td>\n",
       "      <td>0</td>\n",
       "      <td>NaN</td>\n",
       "      <td>NaN</td>\n",
       "      <td>NaN</td>\n",
       "      <td>0</td>\n",
       "      <td>2</td>\n",
       "      <td>2008</td>\n",
       "      <td>WD</td>\n",
       "      <td>Normal</td>\n",
       "      <td>12.247699</td>\n",
       "    </tr>\n",
       "    <tr>\n",
       "      <th>1</th>\n",
       "      <td>20</td>\n",
       "      <td>RL</td>\n",
       "      <td>80.0</td>\n",
       "      <td>9600</td>\n",
       "      <td>Pave</td>\n",
       "      <td>NaN</td>\n",
       "      <td>Reg</td>\n",
       "      <td>Lvl</td>\n",
       "      <td>AllPub</td>\n",
       "      <td>FR2</td>\n",
       "      <td>...</td>\n",
       "      <td>0</td>\n",
       "      <td>NaN</td>\n",
       "      <td>NaN</td>\n",
       "      <td>NaN</td>\n",
       "      <td>0</td>\n",
       "      <td>5</td>\n",
       "      <td>2007</td>\n",
       "      <td>WD</td>\n",
       "      <td>Normal</td>\n",
       "      <td>12.109016</td>\n",
       "    </tr>\n",
       "    <tr>\n",
       "      <th>2</th>\n",
       "      <td>60</td>\n",
       "      <td>RL</td>\n",
       "      <td>68.0</td>\n",
       "      <td>11250</td>\n",
       "      <td>Pave</td>\n",
       "      <td>NaN</td>\n",
       "      <td>IR1</td>\n",
       "      <td>Lvl</td>\n",
       "      <td>AllPub</td>\n",
       "      <td>Inside</td>\n",
       "      <td>...</td>\n",
       "      <td>0</td>\n",
       "      <td>NaN</td>\n",
       "      <td>NaN</td>\n",
       "      <td>NaN</td>\n",
       "      <td>0</td>\n",
       "      <td>9</td>\n",
       "      <td>2008</td>\n",
       "      <td>WD</td>\n",
       "      <td>Normal</td>\n",
       "      <td>12.317171</td>\n",
       "    </tr>\n",
       "  </tbody>\n",
       "</table>\n",
       "<p>3 rows × 80 columns</p>\n",
       "</div>"
      ],
      "text/plain": [
       "   MSSubClass MSZoning  LotFrontage  LotArea Street Alley LotShape  \\\n",
       "0          60       RL         65.0     8450   Pave   NaN      Reg   \n",
       "1          20       RL         80.0     9600   Pave   NaN      Reg   \n",
       "2          60       RL         68.0    11250   Pave   NaN      IR1   \n",
       "\n",
       "  LandContour Utilities LotConfig    ...     PoolArea PoolQC Fence  \\\n",
       "0         Lvl    AllPub    Inside    ...            0    NaN   NaN   \n",
       "1         Lvl    AllPub       FR2    ...            0    NaN   NaN   \n",
       "2         Lvl    AllPub    Inside    ...            0    NaN   NaN   \n",
       "\n",
       "  MiscFeature MiscVal MoSold  YrSold  SaleType  SaleCondition  SalePrice  \n",
       "0         NaN       0      2    2008        WD         Normal  12.247699  \n",
       "1         NaN       0      5    2007        WD         Normal  12.109016  \n",
       "2         NaN       0      9    2008        WD         Normal  12.317171  \n",
       "\n",
       "[3 rows x 80 columns]"
      ]
     },
     "execution_count": 142,
     "metadata": {},
     "output_type": "execute_result"
    }
   ],
   "source": [
    "train = pd.read_csv(\"train.csv\")\n",
    "train.drop('Id', axis = 1, inplace = True)\n",
    "train = train[train.SalePrice <= 520000] # exclude some outliners\n",
    "train[\"SalePrice\"] = np.log1p(train[\"SalePrice\"]) ## np.log1p(x) = log(x+1)\n",
    "y = train.SalePrice.values\n",
    "test = pd.read_csv(\"test.csv\").drop(\"Id\", axis = 1)\n",
    "train.head(3)"
   ]
  },
  {
   "cell_type": "code",
   "execution_count": 143,
   "metadata": {
    "collapsed": false
   },
   "outputs": [],
   "source": [
    "all_data = pd.concat([train.loc[:, 'MSSubClass':'SaleCondition'],\n",
    "                     test.loc[:, 'MSSubClass':'SaleCondition']], ignore_index=True)\n",
    "\n",
    "all_data.drop(labels = ['PoolQC', 'Utilities', 'GarageYrBlt'], axis = 1, inplace = True)"
   ]
  },
  {
   "cell_type": "code",
   "execution_count": 144,
   "metadata": {
    "collapsed": false
   },
   "outputs": [
    {
     "data": {
      "text/plain": [
       "<matplotlib.axes._subplots.AxesSubplot at 0x11e4c5210>"
      ]
     },
     "execution_count": 144,
     "metadata": {},
     "output_type": "execute_result"
    },
    {
     "data": {
      "image/png": "[encoded data removed]",
      "text/plain": [
       "<matplotlib.figure.Figure at 0x11e40f590>"
      ]
     },
     "metadata": {},
     "output_type": "display_data"
    }
   ],
   "source": [
    "# fig, ax = plt.subplots(1, 2, figsize = (10, 4))\n",
    "# sns.boxplot('Foundation', 'SalePrice', data = train, ax = ax[0])\n",
    "# sns.countplot('Foundation', data = all_data, ax = ax[1])"
   ]
  },
  {
   "cell_type": "code",
   "execution_count": 145,
   "metadata": {
    "collapsed": false
   },
   "outputs": [
    {
     "data": {
      "image/png": "[encoded data removed]",
      "text/plain": [
       "<matplotlib.figure.Figure at 0x119ac5850>"
      ]
     },
     "metadata": {},
     "output_type": "display_data"
    }
   ],
   "source": [
    "#sns.countplot('MSZoning', data = all_data)\n",
    "\n",
    "# fig, ax = plt.subplots(1, 2, figsize = (10, 4))\n",
    "# sns.boxplot('SaleType', 'SalePrice', data = train, ax = ax[0])\n",
    "# sns.countplot('SaleType', data = train, ax = ax[1])\n",
    "# plt.tight_layout()\n",
    "#all_data.loc[:, 'MSSubClass'] = all_data['MSSubClass'].apply(str)\n",
    "# all_data.replace({20: 20,\n",
    "#                   30: 30,\n",
    "#                   40: 20,\n",
    "#                   45: 30,\n",
    "#                   50: 20,\n",
    "#                   60: 60,\n",
    "#                   70: 20,\n",
    "#                   75: 20,\n",
    "#                   80: 20,\n",
    "#                   85: 20,\n",
    "#                   90: 90,\n",
    "#                   120: 120,\n",
    "#                   150: 20,\n",
    "#                   160: 20,\n",
    "#                   180: 30,\n",
    "#                   190: 20\n",
    "#                  }, inplace = True)"
   ]
  },
  {
   "cell_type": "markdown",
   "metadata": {},
   "source": [
    "## Missing Value"
   ]
  },
  {
   "cell_type": "code",
   "execution_count": 146,
   "metadata": {
    "collapsed": false
   },
   "outputs": [],
   "source": [
    "all_data.Alley.fillna('NoAlley', inplace = True)\n",
    "all_data.MiscFeature.fillna('No', inplace = True)\n",
    "all_data.loc[all_data.MiscFeature == 'TenC', 'MiscFeature'] = 'No'\n",
    "all_data.Fence.fillna('NoFence', inplace = True)\n",
    "all_data.FireplaceQu.fillna('No', inplace = True)\n",
    "all_data.loc[all_data.GarageCars.isnull(), 'GarageCars'] = 2\n",
    "all_data.loc[all_data.GarageArea.isnull(), 'GarageArea'] = all_data[all_data.GarageCars == 2].GarageArea.median()\n",
    "all_data.loc[all_data.GarageType.isnull(), 'GarageType'] = 'NoGarage'\n",
    "all_data.loc[all_data.GarageFinish.isnull(), 'GarageFinish'] = 'NoGarage'\n",
    "all_data.loc[all_data.GarageQual.isnull(), 'GarageQual'] = 'NoGarage'\n",
    "all_data.loc[all_data.GarageCond.isnull(), 'GarageCond'] = 'NoGarage'\n",
    "all_data.loc[all_data.SaleType.isnull(), 'SaleType'] = 'WD'\n",
    "all_data.loc[all_data.BsmtQual.isnull(), 'BsmtQual'] = 'NoBsmt'\n",
    "all_data.loc[all_data.BsmtCond.isnull(), 'BsmtCond'] = 'NoBsmt'\n",
    "all_data.loc[all_data.BsmtExposure.isnull(), 'BsmtExposure'] = 'NoBsmt'\n",
    "all_data.loc[all_data.BsmtFinType1.isnull(), 'BsmtFinType1'] = 'NoBsmt'\n",
    "all_data.loc[all_data.BsmtFinSF1.isnull(), 'BsmtFinSF1'] = 0\n",
    "all_data.loc[all_data.BsmtUnfSF.isnull(), 'BsmtUnfSF'] = 0\n",
    "all_data.loc[all_data.BsmtFinType2.isnull(), 'BsmtFinType2'] = 'NoBsmt'\n",
    "all_data.loc[all_data.BsmtFinSF2.isnull(), 'BsmtFinSF2'] = 0\n",
    "all_data.loc[all_data.TotalBsmtSF.isnull(), 'TotalBsmtSF'] = 0\n",
    "all_data.loc[all_data.BsmtFullBath.isnull(), 'BsmtFullBath'] = 0\n",
    "all_data.loc[all_data.BsmtHalfBath.isnull(), 'BsmtHalfBath'] = 0\n",
    "all_data.loc[all_data.Electrical.isnull(), 'Electrical'] = 'SBrkr'\n",
    "all_data.loc[all_data.KitchenQual.isnull(), 'KitchenQual'] = 'TA'\n",
    "all_data.loc[all_data.MasVnrArea.isnull(), 'MasVnrType'] = 'None'\n",
    "all_data.loc[all_data.MasVnrArea.isnull(), 'MasVnrArea'] = 0\n",
    "all_data.loc[2610, 'MasVnrType'] = 'BrkFace'\n",
    "all_data.loc[all_data.Exterior1st.isnull(), 'Exterior1st'] = 'VinylSd'\n",
    "all_data.loc[all_data.Exterior2nd.isnull(), 'Exterior2nd'] = 'VinylSd'\n",
    "all_data.loc[all_data.MSZoning.isnull(), 'MSZoning'] = all_data.loc[all_data.MSZoning.isnull(), 'YearBuilt'].apply(\n",
    "    lambda x: 'RM' if x <= 1910 else 'RL')\n",
    "all_data.loc[all_data.Functional.isnull(), 'Functional'] = 'Typ'\n",
    "# all_data.loc[all_data.GarageYrBlt == 2207, 'GarageYrBlt'] = 2007"
   ]
  },
  {
   "cell_type": "markdown",
   "metadata": {},
   "source": [
    "## Log Transformed Skewed Features"
   ]
  },
  {
   "cell_type": "code",
   "execution_count": 147,
   "metadata": {
    "collapsed": false
   },
   "outputs": [
    {
     "name": "stdout",
     "output_type": "stream",
     "text": [
      "['1stFlrSF' '2ndFlrSF' '3SsnPorch' 'BsmtFinSF1' 'BsmtFinSF2' 'BsmtFullBath'\n",
      " 'BsmtHalfBath' 'BsmtUnfSF' 'EnclosedPorch' 'Fireplaces' 'GrLivArea'\n",
      " 'HalfBath' 'KitchenAbvGr' 'LotArea' 'LotFrontage' 'LowQualFinSF'\n",
      " 'MSSubClass' 'MasVnrArea' 'MiscVal' 'OpenPorchSF' 'OverallCond' 'PoolArea'\n",
      " 'ScreenPorch' 'TotRmsAbvGrd' 'TotalBsmtSF' 'WoodDeckSF']\n"
     ]
    }
   ],
   "source": [
    "# log transform skewed numeric features:\n",
    "temporal_feats = all_data.filter(regex = 'Yr|Year|Mo').columns.values\n",
    "numeric_feats = all_data.select_dtypes(exclude = ['object']).columns.values\n",
    "numeric_feats = np.setdiff1d(numeric_feats, temporal_feats)\n",
    "skewed_feats = all_data[numeric_feats].apply(lambda x: skew(x.dropna()))\n",
    "skewed_feats = skewed_feats[abs(skewed_feats) > 0.5].index\n",
    "all_data[skewed_feats] = np.log1p(all_data[skewed_feats])\n",
    "print skewed_feats.values"
   ]
  },
  {
   "cell_type": "markdown",
   "metadata": {},
   "source": [
    "## PCA on Strongly Correlated Features"
   ]
  },
  {
   "cell_type": "code",
   "execution_count": 148,
   "metadata": {
    "collapsed": true
   },
   "outputs": [],
   "source": [
    "from sklearn.linear_model import LinearRegression, RANSACRegressor\n",
    "from sklearn.decomposition import PCA\n",
    "\n",
    "lr = RANSACRegressor(LinearRegression())\n",
    "lot_train = all_data.loc[all_data.LotFrontage.notnull(), ['LotFrontage', 'LotArea']]\n",
    "#print lot_train.LotArea.count(), lot_train.LotFrontage.count()\n",
    "X = lot_train.LotArea.values\n",
    "X = X[:, np.newaxis]\n",
    "lot_test = all_data.loc[all_data.LotFrontage.isnull()].LotArea\n",
    "lot_area_test = lot_test.values[:, np.newaxis]\n",
    "y_lot = lot_train.LotFrontage.values\n",
    "lr.fit(X, y_lot)\n",
    "all_data.loc[all_data.LotFrontage.isnull(), 'LotFrontage'] = lr.predict(lot_area_test)\n",
    "\n",
    "pca = PCA(n_components=2)\n",
    "pca_lot = pca.fit_transform(all_data.loc[:, ['LotFrontage', 'LotArea']])\n",
    "all_data['Lot0'] = pca_lot[:, 0]\n",
    "#all_data['Lot1'] = pca_lot[:, 1]\n",
    "all_data.drop(labels=['LotArea', 'LotFrontage'], axis = 1, inplace = True)"
   ]
  },
  {
   "cell_type": "code",
   "execution_count": 149,
   "metadata": {
    "collapsed": false
   },
   "outputs": [],
   "source": [
    "all_data['Age'] = all_data['YrSold'] - all_data['YearBuilt']\n",
    "all_data['AgeRemod'] = all_data['YrSold'] - all_data['YearRemodAdd']\n",
    "all_data['BsmtBath'] = all_data['BsmtFullBath'] + 0.5*all_data['BsmtHalfBath']\n",
    "all_data['TotalBath'] = all_data['FullBath'] + 0.5*all_data['HalfBath']\n",
    "all_data.drop(labels=['BsmtHalfBath', 'BsmtFullBath', 'FullBath', 'HalfBath'],\n",
    "              axis = 1, inplace = True)"
   ]
  },
  {
   "cell_type": "markdown",
   "metadata": {},
   "source": [
    "## Transform Ordinal Features"
   ]
  },
  {
   "cell_type": "markdown",
   "metadata": {},
   "source": [
    "### combined some unless levels in cat features to avoid overfitting"
   ]
  },
  {
   "cell_type": "code",
   "execution_count": 150,
   "metadata": {
    "collapsed": false
   },
   "outputs": [],
   "source": [
    "all_data.loc[all_data.MSZoning == 'RL', 'MSZoning'] = 'RH'\n",
    "all_data.loc[all_data.MSZoning == 'C (all)', 'MSZoning'] = 'C'\n",
    "all_data.loc[all_data.Neighborhood.isin(['Blmngtn', 'Blueste', 'BrDale', 'CollgCr','IDOTRR', 'NAmes', 'NPkVill', \n",
    "                                         'SWISU', 'Sawyer', 'SawyerW', 'Timber', 'Veenker']), 'Neighborhood'] = 'Others'\n",
    "\n",
    "all_data.loc[all_data.Exterior1st.isin(['AsbShng', 'AsphShn', 'BrkComm', 'CBlock', 'CemntBd', 'ImStucc', 'Plywood', \n",
    "                                        'Stone', 'Stucco', 'WdShing']), 'Exterior1st'] = 'Unrel'\n",
    "all_data.loc[all_data.Condition1.isin(['Feedr', 'PosA', 'PosN', 'RRNe', 'RRNn']), 'Condition1'] = 'Unrel'\n",
    "all_data.loc[all_data.Condition2.isin(['Artery', 'Feedr', 'Norm', 'PosA', \n",
    "                                       'RRAe', 'RRAn', 'RRNn']), 'Condition2'] = 'Unrel'\n",
    "\n",
    "all_data.loc[all_data.RoofMatl.isin(['CompShg', 'Membran', 'Metal', 'WdShake']), 'RoofMatl'] = 'Unrel'\n",
    "all_data.loc[all_data.RoofMatl.isin(['Roll', 'Tar&Grv']), 'RoofMatl'] = 'Roll'\n",
    "all_data.loc[all_data.SaleType.isin(['ConLI', 'ConLw', 'ConLD', 'Con', 'CWD']), 'SaleType'] = 'Con'\n",
    "all_data.loc[all_data.HeatingQC.isin(['Fa', 'Po']), 'HeatingQC'] = 'TA'\n",
    "#all_data[\"LandContour\"] = all_data.LandContour.apply(lambda x: 1 if x == \"Bnk\" else 0)\n",
    "# all_data['LotConfig'] = all_data.LotConfig.apply(lambda x: 1 if x in ['Inside', 'FR2', 'Corner'] else 0)\n",
    "all_data.loc[all_data.LotConfig.isin(['FR2']), 'LotConfig'] = 'Inside'\n",
    "all_data.loc[all_data.LotConfig.isin(['FR3']), 'LotConfig'] = 'CulDSac'\n",
    "all_data.loc[all_data.Foundation == 'Wood', 'Foundation'] = 'PConc'"
   ]
  },
  {
   "cell_type": "markdown",
   "metadata": {},
   "source": [
    "## Create New Features"
   ]
  },
  {
   "cell_type": "code",
   "execution_count": 151,
   "metadata": {
    "collapsed": false
   },
   "outputs": [],
   "source": [
    "# all_data['OverallQual_sq'] = all_data['OverallQual']**2\n",
    "# all_data['OverallQual_cb'] = all_data['OverallQual']**3\n",
    "# all_data['GrLivArea_sq'] = all_data['GrLivArea']**2\n",
    "# all_data['GrLivArea_cb'] = all_data['GrLivArea']**3\n",
    "all_data['Overall_Qual_plus_GrLA'] = all_data['OverallQual'] + all_data['GrLivArea']\n",
    "\n",
    "\n",
    "#all_data['OverallQual_Square']=all_data['OverallQual']*all_data['OverallQual']\n",
    "all_data['OverallQual_3']=all_data['OverallQual']*all_data['OverallQual']*all_data['OverallQual']\n",
    "all_data['OverallQual_exp']=np.exp(all_data['OverallQual'])\n",
    "#all_data['GrLivArea_Square']=all_data['GrLivArea']*all_data['GrLivArea']\n",
    "all_data['GrLivArea_3']=all_data['GrLivArea']*all_data['GrLivArea']*all_data['GrLivArea']\n",
    "all_data['GrLivArea_exp']=np.exp(all_data['GrLivArea'])\n",
    "#all_data['GrLivArea_log']=np.log(all_data['GrLivArea'])\n",
    "#all_data['TotalBsmtSF_/GrLivArea']=all_data['TotalBsmtSF']/all_data['GrLivArea']\n",
    "all_data['OverallCond_sqrt']=np.sqrt(all_data['OverallCond'])\n",
    "all_data['OverallCond_square']=all_data['OverallCond']*all_data['OverallCond']\n",
    "#all_data['LotArea_sqrt']=np.sqrt(all_data['LotArea'])\n",
    "all_data['1stFlrSF_sqrt']=np.sqrt(all_data['1stFlrSF'])\n",
    "#del all_data['1stFlrSF']\n",
    "all_data['TotRmsAbvGrd_sqrt']=np.sqrt(all_data['TotRmsAbvGrd'])"
   ]
  },
  {
   "cell_type": "code",
   "execution_count": 152,
   "metadata": {
    "collapsed": true
   },
   "outputs": [],
   "source": [
    "all_data['HouseStyle'] = all_data.HouseStyle.apply(lambda x: 1 if x == '2Story' else 0)\n",
    "all_data['Condition1'] = all_data.Condition1.apply(lambda x: 1 if x == 'Norm' else 0)"
   ]
  },
  {
   "cell_type": "code",
   "execution_count": 153,
   "metadata": {
    "collapsed": false
   },
   "outputs": [],
   "source": [
    "all_data['season'] = all_data.MoSold.replace( {1: 0, \n",
    "                                   2: 0, \n",
    "                                   3: 0, \n",
    "                                   4: 1,\n",
    "                                   5: 1, \n",
    "                                   6: 1,\n",
    "                                   7: 1,\n",
    "                                   8: 0,\n",
    "                                   9: 0,\n",
    "                                  10: 0,\n",
    "                                  11: 0,\n",
    "                                  12: 0})"
   ]
  },
  {
   "cell_type": "markdown",
   "metadata": {},
   "source": [
    "## Drop Features"
   ]
  },
  {
   "cell_type": "code",
   "execution_count": 154,
   "metadata": {
    "collapsed": false
   },
   "outputs": [],
   "source": [
    "useless_feat = ['MiscFeature', 'Exterior2nd', 'Street', 'OverallCond', 'YearRemodAdd', 'GrLivArea_exp', 'GrLivArea_3',\n",
    "                'MasVnrArea', 'PoolArea', 'YrSold', 'TotRmsAbvGrd', 'OverallCond_sqrt', 'GarageCond', 'BsmtCond',\n",
    "                'TotRmsAbvGrd_sqrt', '1stFlrSF', '2ndFlrSF', 'Alley', 'ExterCond', 'Heating', 'FireplaceQu',\n",
    "                'LandSlope', 'MoSold', 'YearBuilt', 'OverallQual', 'RoofStyle', 'Electrical', 'Fence'\n",
    "               ]\n",
    "all_data.drop(labels=useless_feat, axis = 1, inplace = True)"
   ]
  },
  {
   "cell_type": "code",
   "execution_count": 155,
   "metadata": {
    "collapsed": true
   },
   "outputs": [],
   "source": [
    "cat_features = all_data.select_dtypes(include = ['object']).columns.values"
   ]
  },
  {
   "cell_type": "markdown",
   "metadata": {
    "collapsed": false
   },
   "source": [
    "## Lasso Model"
   ]
  },
  {
   "cell_type": "code",
   "execution_count": 156,
   "metadata": {
    "collapsed": false
   },
   "outputs": [],
   "source": [
    "from sklearn.linear_model import ElasticNet, LassoCV\n",
    "from sklearn.cross_validation import cross_val_score, KFold\n",
    "from sklearn.preprocessing import RobustScaler"
   ]
  },
  {
   "cell_type": "code",
   "execution_count": 157,
   "metadata": {
    "collapsed": false
   },
   "outputs": [],
   "source": [
    "def rmse_cv(model, X, y):\n",
    "    rmse = np.sqrt(-cross_val_score(model, X, y, scoring = \"mean_squared_error\", cv = 10)).mean()\n",
    "    return (rmse)"
   ]
  },
  {
   "cell_type": "code",
   "execution_count": 158,
   "metadata": {
    "collapsed": false
   },
   "outputs": [],
   "source": [
    "all_data = pd.get_dummies(all_data)\n",
    "scale_data = RobustScaler().fit_transform(all_data)\n",
    "X_train = scale_data[:train.shape[0], ]\n",
    "X_test = scale_data[train.shape[0]:, ]"
   ]
  },
  {
   "cell_type": "code",
   "execution_count": 159,
   "metadata": {
    "collapsed": true
   },
   "outputs": [],
   "source": [
    "alphas = [0.0001, 0.0005, 0.001, 0.003, 0.01, 0.03, 0.1, 1]"
   ]
  },
  {
   "cell_type": "code",
   "execution_count": 160,
   "metadata": {
    "collapsed": false
   },
   "outputs": [],
   "source": [
    "model_lasso = LassoCV(alphas=alphas, n_jobs = -1, max_iter = 5000, cv = 10, random_state=18).fit(X_train, y)"
   ]
  },
  {
   "cell_type": "code",
   "execution_count": 161,
   "metadata": {
    "collapsed": false
   },
   "outputs": [
    {
     "data": {
      "text/plain": [
       "0.11885570621715909"
      ]
     },
     "execution_count": 161,
     "metadata": {},
     "output_type": "execute_result"
    }
   ],
   "source": [
    "rmse_cv(model_lasso, X_train, y)"
   ]
  },
  {
   "cell_type": "code",
   "execution_count": 162,
   "metadata": {
    "collapsed": false
   },
   "outputs": [],
   "source": [
    "cf = pd.DataFrame({'features': all_data.columns.values, 'coef': model_lasso.coef_})"
   ]
  },
  {
   "cell_type": "code",
   "execution_count": 163,
   "metadata": {
    "collapsed": false
   },
   "outputs": [],
   "source": [
    "dropped_features = cf[cf.coef == 0].features.values"
   ]
  },
  {
   "cell_type": "code",
   "execution_count": 164,
   "metadata": {
    "collapsed": false
   },
   "outputs": [
    {
     "data": {
      "text/plain": [
       "array(['LotShape_IR3', 'LotShape_Reg', 'LandContour_HLS',\n",
       "       'LandContour_Low', 'LandContour_Lvl', 'LotConfig_Corner',\n",
       "       'BldgType_2fmCon', 'BldgType_Twnhs', 'RoofMatl_Roll',\n",
       "       'RoofMatl_Unrel', 'MasVnrType_BrkFace', 'MasVnrType_None',\n",
       "       'MasVnrType_Stone', 'ExterQual_Ex', 'ExterQual_Fa', 'ExterQual_Gd',\n",
       "       'Foundation_CBlock', 'Foundation_Slab', 'Foundation_Stone',\n",
       "       'BsmtQual_Fa', 'BsmtQual_Gd', 'BsmtQual_NoBsmt', 'BsmtExposure_Av',\n",
       "       'BsmtExposure_Mn', 'BsmtExposure_NoBsmt', 'BsmtFinType1_BLQ',\n",
       "       'BsmtFinType1_NoBsmt', 'BsmtFinType1_Unf', 'BsmtFinType2_ALQ',\n",
       "       'BsmtFinType2_GLQ', 'BsmtFinType2_LwQ', 'BsmtFinType2_NoBsmt',\n",
       "       'BsmtFinType2_Rec', 'BsmtFinType2_Unf', 'HeatingQC_Gd',\n",
       "       'CentralAir_Y', 'KitchenQual_Fa', 'KitchenQual_Gd',\n",
       "       'Functional_Maj1', 'Functional_Min1', 'Functional_Min2',\n",
       "       'Functional_Mod', 'Functional_Sev', 'GarageType_2Types',\n",
       "       'GarageType_Basment', 'GarageType_BuiltIn', 'GarageType_CarPort',\n",
       "       'GarageType_NoGarage', 'GarageFinish_Fin', 'GarageFinish_NoGarage',\n",
       "       'GarageFinish_RFn', 'GarageQual_Ex', 'GarageQual_Gd',\n",
       "       'GarageQual_NoGarage', 'GarageQual_Po', 'GarageQual_TA',\n",
       "       'PavedDrive_N', 'PavedDrive_P', 'SaleType_Con', 'SaleType_Oth',\n",
       "       'SaleCondition_AdjLand', 'SaleCondition_Alloca',\n",
       "       'SaleCondition_Partial'], dtype=object)"
      ]
     },
     "execution_count": 164,
     "metadata": {},
     "output_type": "execute_result"
    }
   ],
   "source": [
    "#print '\",\"'.join(dropped_features)\n",
    "dropped_features"
   ]
  },
  {
   "cell_type": "code",
   "execution_count": 165,
   "metadata": {
    "collapsed": false
   },
   "outputs": [
    {
     "name": "stdout",
     "output_type": "stream",
     "text": [
      "['Gd']\n"
     ]
    }
   ],
   "source": [
    "l = [x.split('_')[1] for x in dropped_features if x.startswith('HeatingQC')]\n",
    "print l"
   ]
  },
  {
   "cell_type": "code",
   "execution_count": 166,
   "metadata": {
    "collapsed": false
   },
   "outputs": [
    {
     "data": {
      "text/plain": [
       "1"
      ]
     },
     "execution_count": 166,
     "metadata": {},
     "output_type": "execute_result"
    }
   ],
   "source": [
    "len(l)"
   ]
  },
  {
   "cell_type": "code",
   "execution_count": 167,
   "metadata": {
    "collapsed": false
   },
   "outputs": [],
   "source": [
    "#all_data.OverallQual"
   ]
  },
  {
   "cell_type": "code",
   "execution_count": 168,
   "metadata": {
    "collapsed": false
   },
   "outputs": [
    {
     "data": {
      "text/html": [
       "<div>\n",
       "<table border=\"1\" class=\"dataframe\">\n",
       "  <thead>\n",
       "    <tr style=\"text-align: right;\">\n",
       "      <th></th>\n",
       "      <th>coef</th>\n",
       "      <th>features</th>\n",
       "    </tr>\n",
       "  </thead>\n",
       "  <tbody>\n",
       "    <tr>\n",
       "      <th>85</th>\n",
       "      <td>-0.018438</td>\n",
       "      <td>Foundation_BrkTil</td>\n",
       "    </tr>\n",
       "    <tr>\n",
       "      <th>86</th>\n",
       "      <td>-0.000000</td>\n",
       "      <td>Foundation_CBlock</td>\n",
       "    </tr>\n",
       "    <tr>\n",
       "      <th>87</th>\n",
       "      <td>0.011551</td>\n",
       "      <td>Foundation_PConc</td>\n",
       "    </tr>\n",
       "    <tr>\n",
       "      <th>88</th>\n",
       "      <td>0.000000</td>\n",
       "      <td>Foundation_Slab</td>\n",
       "    </tr>\n",
       "    <tr>\n",
       "      <th>89</th>\n",
       "      <td>0.000000</td>\n",
       "      <td>Foundation_Stone</td>\n",
       "    </tr>\n",
       "  </tbody>\n",
       "</table>\n",
       "</div>"
      ],
      "text/plain": [
       "        coef           features\n",
       "85 -0.018438  Foundation_BrkTil\n",
       "86 -0.000000  Foundation_CBlock\n",
       "87  0.011551   Foundation_PConc\n",
       "88  0.000000    Foundation_Slab\n",
       "89  0.000000   Foundation_Stone"
      ]
     },
     "execution_count": 168,
     "metadata": {},
     "output_type": "execute_result"
    }
   ],
   "source": [
    "cf[cf.features.str.contains('Foundation')]"
   ]
  },
  {
   "cell_type": "markdown",
   "metadata": {},
   "source": [
    "## Prediction"
   ]
  },
  {
   "cell_type": "code",
   "execution_count": 169,
   "metadata": {
    "collapsed": true
   },
   "outputs": [],
   "source": [
    "def predict(model, test_data, filename):\n",
    "    ypred = model.predict(test_data)\n",
    "    submission = pd.read_csv(\"sample_submission.csv\")\n",
    "    submission['SalePrice'] = np.expm1(ypred)\n",
    "    submission.to_csv(filename, index = False)"
   ]
  },
  {
   "cell_type": "code",
   "execution_count": 170,
   "metadata": {
    "collapsed": true
   },
   "outputs": [],
   "source": [
    "predict(model_lasso, X_test, 'lasso_new_feature.csv')"
   ]
  },
  {
   "cell_type": "code",
   "execution_count": null,
   "metadata": {
    "collapsed": true
   },
   "outputs": [],
   "source": []
  }
 ],
 "metadata": {
  "kernelspec": {
   "display_name": "Python 2",
   "language": "python",
   "name": "python2"
  },
  "language_info": {
   "codemirror_mode": {
    "name": "ipython",
    "version": 2
   },
   "file_extension": ".py",
   "mimetype": "text/x-python",
   "name": "python",
   "nbconvert_exporter": "python",
   "pygments_lexer": "ipython2",
   "version": "2.7.12"
  }
 },
 "nbformat": 4,
 "nbformat_minor": 0
}
