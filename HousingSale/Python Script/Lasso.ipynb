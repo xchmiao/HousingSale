{
 "cells": [
  {
   "cell_type": "markdown",
   "metadata": {},
   "source": [
    "# Regression Models and Feature Selections"
   ]
  },
  {
   "cell_type": "markdown",
   "metadata": {},
   "source": [
    "## Load Data"
   ]
  },
  {
   "cell_type": "code",
   "execution_count": 48,
   "metadata": {
    "collapsed": true
   },
   "outputs": [],
   "source": [
    "import pandas as pd\n",
    "import numpy as np\n",
    "import seaborn as sns\n",
    "import matplotlib.pyplot as plt\n",
    "from scipy.stats import skew\n",
    "%matplotlib inline"
   ]
  },
  {
   "cell_type": "code",
   "execution_count": 49,
   "metadata": {
    "collapsed": false
   },
   "outputs": [
    {
     "data": {
      "text/html": [
       "<div>\n",
       "<table border=\"1\" class=\"dataframe\">\n",
       "  <thead>\n",
       "    <tr style=\"text-align: right;\">\n",
       "      <th></th>\n",
       "      <th>MSSubClass</th>\n",
       "      <th>MSZoning</th>\n",
       "      <th>LotFrontage</th>\n",
       "      <th>LotArea</th>\n",
       "      <th>Street</th>\n",
       "      <th>Alley</th>\n",
       "      <th>LotShape</th>\n",
       "      <th>LandContour</th>\n",
       "      <th>Utilities</th>\n",
       "      <th>LotConfig</th>\n",
       "      <th>...</th>\n",
       "      <th>PoolArea</th>\n",
       "      <th>PoolQC</th>\n",
       "      <th>Fence</th>\n",
       "      <th>MiscFeature</th>\n",
       "      <th>MiscVal</th>\n",
       "      <th>MoSold</th>\n",
       "      <th>YrSold</th>\n",
       "      <th>SaleType</th>\n",
       "      <th>SaleCondition</th>\n",
       "      <th>SalePrice</th>\n",
       "    </tr>\n",
       "  </thead>\n",
       "  <tbody>\n",
       "    <tr>\n",
       "      <th>0</th>\n",
       "      <td>60</td>\n",
       "      <td>RL</td>\n",
       "      <td>65.0</td>\n",
       "      <td>8450</td>\n",
       "      <td>Pave</td>\n",
       "      <td>NaN</td>\n",
       "      <td>Reg</td>\n",
       "      <td>Lvl</td>\n",
       "      <td>AllPub</td>\n",
       "      <td>Inside</td>\n",
       "      <td>...</td>\n",
       "      <td>0</td>\n",
       "      <td>NaN</td>\n",
       "      <td>NaN</td>\n",
       "      <td>NaN</td>\n",
       "      <td>0</td>\n",
       "      <td>2</td>\n",
       "      <td>2008</td>\n",
       "      <td>WD</td>\n",
       "      <td>Normal</td>\n",
       "      <td>208500</td>\n",
       "    </tr>\n",
       "    <tr>\n",
       "      <th>1</th>\n",
       "      <td>20</td>\n",
       "      <td>RL</td>\n",
       "      <td>80.0</td>\n",
       "      <td>9600</td>\n",
       "      <td>Pave</td>\n",
       "      <td>NaN</td>\n",
       "      <td>Reg</td>\n",
       "      <td>Lvl</td>\n",
       "      <td>AllPub</td>\n",
       "      <td>FR2</td>\n",
       "      <td>...</td>\n",
       "      <td>0</td>\n",
       "      <td>NaN</td>\n",
       "      <td>NaN</td>\n",
       "      <td>NaN</td>\n",
       "      <td>0</td>\n",
       "      <td>5</td>\n",
       "      <td>2007</td>\n",
       "      <td>WD</td>\n",
       "      <td>Normal</td>\n",
       "      <td>181500</td>\n",
       "    </tr>\n",
       "    <tr>\n",
       "      <th>2</th>\n",
       "      <td>60</td>\n",
       "      <td>RL</td>\n",
       "      <td>68.0</td>\n",
       "      <td>11250</td>\n",
       "      <td>Pave</td>\n",
       "      <td>NaN</td>\n",
       "      <td>IR1</td>\n",
       "      <td>Lvl</td>\n",
       "      <td>AllPub</td>\n",
       "      <td>Inside</td>\n",
       "      <td>...</td>\n",
       "      <td>0</td>\n",
       "      <td>NaN</td>\n",
       "      <td>NaN</td>\n",
       "      <td>NaN</td>\n",
       "      <td>0</td>\n",
       "      <td>9</td>\n",
       "      <td>2008</td>\n",
       "      <td>WD</td>\n",
       "      <td>Normal</td>\n",
       "      <td>223500</td>\n",
       "    </tr>\n",
       "  </tbody>\n",
       "</table>\n",
       "<p>3 rows × 80 columns</p>\n",
       "</div>"
      ],
      "text/plain": [
       "   MSSubClass MSZoning  LotFrontage  LotArea Street Alley LotShape  \\\n",
       "0          60       RL         65.0     8450   Pave   NaN      Reg   \n",
       "1          20       RL         80.0     9600   Pave   NaN      Reg   \n",
       "2          60       RL         68.0    11250   Pave   NaN      IR1   \n",
       "\n",
       "  LandContour Utilities LotConfig    ...     PoolArea PoolQC Fence  \\\n",
       "0         Lvl    AllPub    Inside    ...            0    NaN   NaN   \n",
       "1         Lvl    AllPub       FR2    ...            0    NaN   NaN   \n",
       "2         Lvl    AllPub    Inside    ...            0    NaN   NaN   \n",
       "\n",
       "  MiscFeature MiscVal MoSold  YrSold  SaleType  SaleCondition  SalePrice  \n",
       "0         NaN       0      2    2008        WD         Normal     208500  \n",
       "1         NaN       0      5    2007        WD         Normal     181500  \n",
       "2         NaN       0      9    2008        WD         Normal     223500  \n",
       "\n",
       "[3 rows x 80 columns]"
      ]
     },
     "execution_count": 49,
     "metadata": {},
     "output_type": "execute_result"
    }
   ],
   "source": [
    "train = pd.read_csv(\"train.csv\")\n",
    "train.drop('Id', axis = 1, inplace = True)\n",
    "train = train[train.SalePrice <= 520000]\n",
    "test = pd.read_csv(\"test.csv\").drop(\"Id\", axis = 1)\n",
    "train.head(3)"
   ]
  },
  {
   "cell_type": "code",
   "execution_count": 50,
   "metadata": {
    "collapsed": false
   },
   "outputs": [],
   "source": [
    "all_data = pd.concat([train.loc[:, 'MSSubClass':'SaleCondition'],\n",
    "                     test.loc[:, 'MSSubClass':'SaleCondition']])"
   ]
  },
  {
   "cell_type": "code",
   "execution_count": 51,
   "metadata": {
    "collapsed": false
   },
   "outputs": [
    {
     "data": {
      "text/plain": [
       "(2911, 79)"
      ]
     },
     "execution_count": 51,
     "metadata": {},
     "output_type": "execute_result"
    }
   ],
   "source": [
    "all_data.shape"
   ]
  },
  {
   "cell_type": "markdown",
   "metadata": {},
   "source": [
    "## Data preprocessing:"
   ]
  },
  {
   "cell_type": "markdown",
   "metadata": {},
   "source": [
    "We're not going to do anything fancy here:\n",
    "* First I'll transform the skewed numeric features by taking log(feature + 1) - this will make the features more normal\n",
    "* Create Dummy variables for the categorical features\n",
    "* Replace the numeric missing values (NaN's) with the mean of their respective columns"
   ]
  },
  {
   "cell_type": "code",
   "execution_count": 52,
   "metadata": {
    "collapsed": false
   },
   "outputs": [],
   "source": [
    "train[\"SalePrice\"] = np.log1p(train[\"SalePrice\"]) ## np.log1p(x) = log(x+1)\n",
    "\n",
    "# log transform skewed numeric features:\n",
    "numeric_feats = all_data.select_dtypes(exclude = ['object']).columns.values\n",
    "skewed_feats = all_data[numeric_feats].apply(lambda x: skew(x.dropna()))\n",
    "#over_skewed_feats = skewed_feats[abs(skewed_feats) > 9].index\n",
    "skewed_feats = skewed_feats[abs(skewed_feats) > 0.75].index\n",
    "\n",
    "all_data[skewed_feats] = np.log1p(all_data[skewed_feats])"
   ]
  },
  {
   "cell_type": "code",
   "execution_count": 53,
   "metadata": {
    "collapsed": false
   },
   "outputs": [],
   "source": [
    "all_data = pd.get_dummies(all_data)"
   ]
  },
  {
   "cell_type": "code",
   "execution_count": 54,
   "metadata": {
    "collapsed": false
   },
   "outputs": [],
   "source": [
    "all_data = all_data.fillna(all_data.mean())"
   ]
  },
  {
   "cell_type": "code",
   "execution_count": 55,
   "metadata": {
    "collapsed": true
   },
   "outputs": [],
   "source": [
    "X_train = all_data[:train.shape[0]]\n",
    "X_test = all_data[train.shape[0]:]\n",
    "y = train.SalePrice"
   ]
  },
  {
   "cell_type": "markdown",
   "metadata": {},
   "source": [
    "## Lasso Model"
   ]
  },
  {
   "cell_type": "code",
   "execution_count": 56,
   "metadata": {
    "collapsed": false
   },
   "outputs": [],
   "source": [
    "from sklearn.linear_model import ElasticNet, LassoCV\n",
    "from sklearn.cross_validation import cross_val_score"
   ]
  },
  {
   "cell_type": "code",
   "execution_count": 57,
   "metadata": {
    "collapsed": true
   },
   "outputs": [],
   "source": [
    "def rmse_cv(model, X, y):\n",
    "    rmse = np.sqrt(-cross_val_score(model, X, y, scoring = \"mean_squared_error\", cv = 5))\n",
    "    return (rmse)"
   ]
  },
  {
   "cell_type": "code",
   "execution_count": 58,
   "metadata": {
    "collapsed": true
   },
   "outputs": [],
   "source": [
    "def predict(model, test_data, filename):\n",
    "    ypred = model.predict(test_data)\n",
    "    submission = pd.read_csv(\"sample_submission.csv\")\n",
    "    submission['SalePrice'] = np.expm1(ypred)\n",
    "    submission.to_csv(filename, index = False)"
   ]
  },
  {
   "cell_type": "code",
   "execution_count": 59,
   "metadata": {
    "collapsed": false
   },
   "outputs": [],
   "source": [
    "alphas = [0.0001, 0.0005, 0.001, 0.003, 0.01, 0.03, 0.1, 1]\n",
    "model_lasso = LassoCV(alphas = alphas, n_jobs= -1, max_iter = 2000, cv = 5).fit(X_train, y)"
   ]
  },
  {
   "cell_type": "code",
   "execution_count": 60,
   "metadata": {
    "collapsed": false
   },
   "outputs": [
    {
     "data": {
      "text/plain": [
       "0.12132467597640488"
      ]
     },
     "execution_count": 60,
     "metadata": {},
     "output_type": "execute_result"
    }
   ],
   "source": [
    "rmse_cv(model_lasso, X_train, y).mean()"
   ]
  },
  {
   "cell_type": "code",
   "execution_count": 61,
   "metadata": {
    "collapsed": false
   },
   "outputs": [],
   "source": [
    "ypred = model_lasso.predict(X_test)\n",
    "submission = pd.read_csv(\"sample_submission.csv\")\n",
    "submission['SalePrice'] = np.expm1(ypred)\n",
    "submission.to_csv(\"lasso_3.csv\", index = False)"
   ]
  },
  {
   "cell_type": "code",
   "execution_count": 62,
   "metadata": {
    "collapsed": false
   },
   "outputs": [],
   "source": [
    "cf = pd.DataFrame({'features': X_train.columns.values, 'coef': model_lasso.coef_})"
   ]
  },
  {
   "cell_type": "code",
   "execution_count": 63,
   "metadata": {
    "collapsed": false
   },
   "outputs": [
    {
     "name": "stdout",
     "output_type": "stream",
     "text": [
      "In total, 179 features have been dropped. \n"
     ]
    }
   ],
   "source": [
    "dropped_features = cf[cf.coef == 0].features.values\n",
    "print \"In total, %s features have been dropped. \" %len(dropped_features)"
   ]
  },
  {
   "cell_type": "code",
   "execution_count": 64,
   "metadata": {
    "collapsed": true
   },
   "outputs": [],
   "source": [
    "selected_features = cf[cf.coef > 0].features.values"
   ]
  },
  {
   "cell_type": "markdown",
   "metadata": {},
   "source": [
    "### Scale the features before training (Robust Scaler)"
   ]
  },
  {
   "cell_type": "code",
   "execution_count": 65,
   "metadata": {
    "collapsed": true
   },
   "outputs": [],
   "source": [
    "from sklearn.preprocessing import RobustScaler"
   ]
  },
  {
   "cell_type": "code",
   "execution_count": 66,
   "metadata": {
    "collapsed": false
   },
   "outputs": [],
   "source": [
    "robust_scaler = RobustScaler()\n",
    "scale_data = robust_scaler.fit_transform(all_data)"
   ]
  },
  {
   "cell_type": "code",
   "execution_count": 67,
   "metadata": {
    "collapsed": false
   },
   "outputs": [],
   "source": [
    "X_train = scale_data[:train.shape[0], ]\n",
    "X_test = scale_data[train.shape[0]:, ]"
   ]
  },
  {
   "cell_type": "code",
   "execution_count": 68,
   "metadata": {
    "collapsed": false
   },
   "outputs": [],
   "source": [
    "model_lasso = LassoCV(alphas=alphas, n_jobs = -1, max_iter = 2000, cv = 5).fit(X_train, y)"
   ]
  },
  {
   "cell_type": "code",
   "execution_count": 69,
   "metadata": {
    "collapsed": false
   },
   "outputs": [
    {
     "data": {
      "text/plain": [
       "0.12157733362133112"
      ]
     },
     "execution_count": 69,
     "metadata": {},
     "output_type": "execute_result"
    }
   ],
   "source": [
    "rmse_cv(model_lasso, X_train, y).mean()"
   ]
  },
  {
   "cell_type": "code",
   "execution_count": 70,
   "metadata": {
    "collapsed": true
   },
   "outputs": [],
   "source": [
    "predict(model_lasso, X_test, filename=\"lasso_rs.csv\")"
   ]
  },
  {
   "cell_type": "code",
   "execution_count": 71,
   "metadata": {
    "collapsed": false
   },
   "outputs": [
    {
     "name": "stdout",
     "output_type": "stream",
     "text": [
      "In total, 178 features have been dropped. \n"
     ]
    }
   ],
   "source": [
    "cf = pd.DataFrame({'features': all_data.columns.values, 'coef': model_lasso.coef_})\n",
    "dropped_features = cf[cf.coef == 0].features.values\n",
    "print \"In total, %s features have been dropped. \" %len(dropped_features)"
   ]
  },
  {
   "cell_type": "code",
   "execution_count": 72,
   "metadata": {
    "collapsed": false
   },
   "outputs": [
    {
     "data": {
      "text/plain": [
       "array(['LotFrontage', 'MasVnrArea', '2ndFlrSF', 'BsmtHalfBath',\n",
       "       'BedroomAbvGr', 'TotRmsAbvGrd', 'GarageYrBlt', 'MoSold',\n",
       "       'MSZoning_RH', 'MSZoning_RL', 'Street_Grvl', 'Street_Pave',\n",
       "       'Alley_Grvl', 'LotShape_IR3', 'LotShape_Reg', 'LandContour_HLS',\n",
       "       'LandContour_Low', 'LandContour_Lvl', 'Utilities_AllPub',\n",
       "       'Utilities_NoSeWa', 'LotConfig_FR3', 'LotConfig_Inside',\n",
       "       'LandSlope_Gtl', 'LandSlope_Sev', 'Neighborhood_Blmngtn',\n",
       "       'Neighborhood_Blueste', 'Neighborhood_BrDale',\n",
       "       'Neighborhood_CollgCr', 'Neighborhood_Gilbert',\n",
       "       'Neighborhood_IDOTRR', 'Neighborhood_MeadowV',\n",
       "       'Neighborhood_NPkVill', 'Neighborhood_SWISU', 'Neighborhood_Sawyer',\n",
       "       'Neighborhood_SawyerW', 'Neighborhood_Timber',\n",
       "       'Neighborhood_Veenker', 'Condition1_Feedr', 'Condition1_PosA',\n",
       "       'Condition1_PosN', 'Condition1_RRAn', 'Condition1_RRNe',\n",
       "       'Condition1_RRNn', 'Condition2_Artery', 'Condition2_Feedr',\n",
       "       'Condition2_Norm', 'Condition2_PosA', 'Condition2_RRAe',\n",
       "       'Condition2_RRAn', 'Condition2_RRNn', 'BldgType_2fmCon',\n",
       "       'BldgType_Twnhs', 'HouseStyle_1.5Unf', 'HouseStyle_1Story',\n",
       "       'HouseStyle_2.5Fin', 'HouseStyle_2.5Unf', 'HouseStyle_SFoyer',\n",
       "       'HouseStyle_SLvl', 'RoofStyle_Flat', 'RoofStyle_Gable',\n",
       "       'RoofStyle_Gambrel', 'RoofStyle_Hip', 'RoofStyle_Mansard',\n",
       "       'RoofStyle_Shed', 'RoofMatl_CompShg', 'RoofMatl_Membran',\n",
       "       'RoofMatl_Metal', 'RoofMatl_Roll', 'RoofMatl_Tar&Grv',\n",
       "       'RoofMatl_WdShake', 'RoofMatl_WdShngl', 'Exterior1st_AsbShng',\n",
       "       'Exterior1st_AsphShn', 'Exterior1st_BrkComm', 'Exterior1st_CBlock',\n",
       "       'Exterior1st_CemntBd', 'Exterior1st_ImStucc', 'Exterior1st_Plywood',\n",
       "       'Exterior1st_Stone', 'Exterior1st_Stucco', 'Exterior1st_WdShing',\n",
       "       'Exterior2nd_AsbShng', 'Exterior2nd_AsphShn', 'Exterior2nd_Brk Cmn',\n",
       "       'Exterior2nd_BrkFace', 'Exterior2nd_CBlock', 'Exterior2nd_CmentBd',\n",
       "       'Exterior2nd_HdBoard', 'Exterior2nd_ImStucc', 'Exterior2nd_MetalSd',\n",
       "       'Exterior2nd_Other', 'Exterior2nd_Plywood', 'Exterior2nd_Stone',\n",
       "       'Exterior2nd_Stucco', 'Exterior2nd_Wd Shng', 'MasVnrType_None',\n",
       "       'MasVnrType_Stone', 'ExterQual_Ex', 'ExterQual_Fa', 'ExterQual_Gd',\n",
       "       'ExterCond_Ex', 'ExterCond_Fa', 'ExterCond_Gd', 'ExterCond_Po',\n",
       "       'Foundation_CBlock', 'Foundation_Slab', 'Foundation_Stone',\n",
       "       'Foundation_Wood', 'BsmtQual_Fa', 'BsmtQual_Gd', 'BsmtCond_Gd',\n",
       "       'BsmtCond_Po', 'BsmtCond_TA', 'BsmtExposure_Av', 'BsmtExposure_Mn',\n",
       "       'BsmtFinType1_BLQ', 'BsmtFinType1_Unf', 'BsmtFinType2_ALQ',\n",
       "       'BsmtFinType2_GLQ', 'BsmtFinType2_LwQ', 'BsmtFinType2_Rec',\n",
       "       'BsmtFinType2_Unf', 'Heating_Floor', 'Heating_GasA', 'Heating_OthW',\n",
       "       'Heating_Wall', 'HeatingQC_Fa', 'HeatingQC_Gd', 'HeatingQC_Po',\n",
       "       'Electrical_FuseA', 'Electrical_FuseF', 'Electrical_FuseP',\n",
       "       'Electrical_Mix', 'Electrical_SBrkr', 'KitchenQual_Fa',\n",
       "       'KitchenQual_Gd', 'Functional_Maj1', 'Functional_Min1',\n",
       "       'Functional_Min2', 'Functional_Mod', 'Functional_Sev',\n",
       "       'FireplaceQu_Fa', 'FireplaceQu_Po', 'FireplaceQu_TA',\n",
       "       'GarageType_2Types', 'GarageType_Basment', 'GarageType_BuiltIn',\n",
       "       'GarageType_CarPort', 'GarageFinish_RFn', 'GarageQual_Ex',\n",
       "       'GarageQual_Gd', 'GarageQual_Po', 'GarageQual_TA', 'GarageCond_Ex',\n",
       "       'GarageCond_Gd', 'GarageCond_Po', 'GarageCond_TA', 'PavedDrive_N',\n",
       "       'PavedDrive_P', 'PoolQC_Ex', 'PoolQC_Fa', 'PoolQC_Gd',\n",
       "       'Fence_GdPrv', 'Fence_MnPrv', 'Fence_MnWw', 'MiscFeature_Gar2',\n",
       "       'MiscFeature_Othr', 'MiscFeature_Shed', 'MiscFeature_TenC',\n",
       "       'SaleType_CWD', 'SaleType_Con', 'SaleType_ConLD', 'SaleType_ConLI',\n",
       "       'SaleType_ConLw', 'SaleType_Oth', 'SaleCondition_AdjLand',\n",
       "       'SaleCondition_Alloca', 'SaleCondition_Partial'], dtype=object)"
      ]
     },
     "execution_count": 72,
     "metadata": {},
     "output_type": "execute_result"
    }
   ],
   "source": [
    "dropped_features"
   ]
  },
  {
   "cell_type": "code",
   "execution_count": 73,
   "metadata": {
    "collapsed": false
   },
   "outputs": [],
   "source": [
    "cf['abs_coef'] = np.abs(cf['coef'])\n",
    "cf = cf.sort_values(by = ['abs_coef'], ascending = False)\n",
    "cf = cf[cf.coef != 0].iloc[0: 20, :]"
   ]
  },
  {
   "cell_type": "code",
   "execution_count": 74,
   "metadata": {
    "collapsed": false
   },
   "outputs": [
    {
     "data": {
      "text/plain": [
       "<matplotlib.axes._subplots.AxesSubplot at 0x119587750>"
      ]
     },
     "execution_count": 74,
     "metadata": {},
     "output_type": "execute_result"
    },
    {
     "data": {
      "image/png": "[encoded data removed]",
      "text/plain": [
       "<matplotlib.figure.Figure at 0x1193909d0>"
      ]
     },
     "metadata": {},
     "output_type": "display_data"
    }
   ],
   "source": [
    "plt.figure(figsize = (7, 10))\n",
    "sns.barplot('coef', 'features', data = cf, orient= 'h', color = 'orange')\n",
    "#xt = plt.xticks(rotation=45)"
   ]
  },
  {
   "cell_type": "markdown",
   "metadata": {},
   "source": [
    "## Kernel Ridge Regression"
   ]
  },
  {
   "cell_type": "code",
   "execution_count": 75,
   "metadata": {
    "collapsed": true
   },
   "outputs": [],
   "source": [
    "from sklearn.kernel_ridge import KernelRidge\n",
    "from sklearn.grid_search import GridSearchCV\n",
    "from sklearn.metrics import mean_squared_error, make_scorer\n",
    "from sklearn.cross_validation import cross_val_predict"
   ]
  },
  {
   "cell_type": "code",
   "execution_count": 76,
   "metadata": {
    "collapsed": true
   },
   "outputs": [],
   "source": [
    "# define the scoring function\n",
    "def rmse_score(y_true, y_pred):\n",
    "    score = np.sqrt(mean_squared_error(y_true, y_pred))\n",
    "    return score\n",
    "rmse = make_scorer(rmse_score, greater_is_better=False)"
   ]
  },
  {
   "cell_type": "markdown",
   "metadata": {},
   "source": [
    "** \n",
    "Using the selected the features from Lasso models\n",
    "**"
   ]
  },
  {
   "cell_type": "code",
   "execution_count": 77,
   "metadata": {
    "collapsed": false
   },
   "outputs": [],
   "source": [
    "selected_data = all_data[selected_features]\n",
    "#scaled_selected_data = robust_scaler.fit_transform(selected_data)\n",
    "X_train = selected_data[:train.shape[0]]\n",
    "X_test = selected_data[train.shape[0]:]"
   ]
  },
  {
   "cell_type": "markdown",
   "metadata": {},
   "source": [
    "### Linear Kernel"
   ]
  },
  {
   "cell_type": "code",
   "execution_count": 78,
   "metadata": {
    "collapsed": false
   },
   "outputs": [
    {
     "name": "stdout",
     "output_type": "stream",
     "text": [
      "Fitting 5 folds for each of 7 candidates, totalling 35 fits\n"
     ]
    },
    {
     "name": "stderr",
     "output_type": "stream",
     "text": [
      "[Parallel(n_jobs=-1)]: Done  35 out of  35 | elapsed:    1.0s finished\n"
     ]
    },
    {
     "data": {
      "text/plain": [
       "0.12250814846133573"
      ]
     },
     "execution_count": 78,
     "metadata": {},
     "output_type": "execute_result"
    }
   ],
   "source": [
    "kr_linear = KernelRidge(kernel = 'linear')#.fit(X_train, y)\n",
    "grid_kr_linear = GridSearchCV(kr_linear, param_grid = {'alpha': [0.1, 1, 3, 10, 30, 50, 100]}, \n",
    "                              cv = 5, n_jobs = -1, verbose = 1, scoring = rmse).fit(X_train, y)\n",
    "rmse_cv(grid_kr_linear.best_estimator_, X_train, y).mean()"
   ]
  },
  {
   "cell_type": "code",
   "execution_count": 79,
   "metadata": {
    "collapsed": false
   },
   "outputs": [],
   "source": [
    "predict(grid_kr_linear.best_estimator_, X_test, \"kn_linear.csv\")"
   ]
  },
  {
   "cell_type": "markdown",
   "metadata": {},
   "source": [
    "## RBF Kernel"
   ]
  },
  {
   "cell_type": "code",
   "execution_count": 80,
   "metadata": {
    "collapsed": true
   },
   "outputs": [],
   "source": [
    "# Scale the features using RobustScaler\n",
    "scaled_selected_data = robust_scaler.fit_transform(selected_data)\n",
    "X_train = scaled_selected_data[:train.shape[0], ]\n",
    "X_test = scaled_selected_data[train.shape[0]:, ]"
   ]
  },
  {
   "cell_type": "code",
   "execution_count": 81,
   "metadata": {
    "collapsed": false
   },
   "outputs": [
    {
     "name": "stdout",
     "output_type": "stream",
     "text": [
      "Fitting 5 folds for each of 100 candidates, totalling 500 fits\n"
     ]
    },
    {
     "name": "stderr",
     "output_type": "stream",
     "text": [
      "[Parallel(n_jobs=-1)]: Done  34 tasks      | elapsed:    1.2s\n",
      "[Parallel(n_jobs=-1)]: Done 184 tasks      | elapsed:    5.3s\n",
      "[Parallel(n_jobs=-1)]: Done 434 tasks      | elapsed:   12.3s\n",
      "[Parallel(n_jobs=-1)]: Done 500 out of 500 | elapsed:   14.0s finished\n"
     ]
    }
   ],
   "source": [
    "kr_rbf = KernelRidge(kernel = 'rbf')\n",
    "param_grid = {'alpha': np.logspace(-5, -2, 10), \n",
    "              'gamma': np.logspace(-7, -2, 10)}\n",
    "grid_kr = GridSearchCV(kr_rbf, cv = 5, param_grid=param_grid, n_jobs = -1, \n",
    "                       verbose = 1, scoring = rmse).fit(X_train, y)"
   ]
  },
  {
   "cell_type": "code",
   "execution_count": 82,
   "metadata": {
    "collapsed": false
   },
   "outputs": [
    {
     "name": "stdout",
     "output_type": "stream",
     "text": [
      "The best score is 0.11969538387\n",
      "The best parameters are {'alpha': 0.0001, 'gamma': 0.00021544346900318845}\n"
     ]
    }
   ],
   "source": [
    "kr_rbf_model = grid_kr.best_estimator_\n",
    "print \"The best score is %s\" %-grid_kr.best_score_\n",
    "print \"The best parameters are %s\" % grid_kr.best_params_"
   ]
  },
  {
   "cell_type": "code",
   "execution_count": 83,
   "metadata": {
    "collapsed": false
   },
   "outputs": [],
   "source": [
    "scores = pd.DataFrame(grid_kr.grid_scores_)\n",
    "scores = scores.rename(columns={'mean_validation_score': 'rmse'})\n",
    "scores['alpha'] = scores['parameters'].apply(lambda x: x['alpha'])\n",
    "scores['gamma'] = scores['parameters'].apply(lambda x: x['gamma'])\n",
    "scores.drop(labels = ['cv_validation_scores', 'parameters'], axis = 1, inplace = True)"
   ]
  },
  {
   "cell_type": "code",
   "execution_count": 84,
   "metadata": {
    "collapsed": false
   },
   "outputs": [
    {
     "data": {
      "text/plain": [
       "<matplotlib.axes._subplots.AxesSubplot at 0x11a913fd0>"
      ]
     },
     "execution_count": 84,
     "metadata": {},
     "output_type": "execute_result"
    },
    {
     "data": {
      "image/png": "[encoded data removed]",
      "text/plain": [
       "<matplotlib.figure.Figure at 0x11a932e10>"
      ]
     },
     "metadata": {},
     "output_type": "display_data"
    }
   ],
   "source": [
    "plt.figure(figsize=(10, 7.5))\n",
    "sns.heatmap(scores[(scores.alpha < 0.001) & (scores.gamma < 0.001)].pivot('alpha', 'gamma', 'rmse'), \n",
    "            annot=True, fmt = \".3f\", cmap=None)"
   ]
  },
  {
   "cell_type": "code",
   "execution_count": 85,
   "metadata": {
    "collapsed": false
   },
   "outputs": [],
   "source": [
    "predict(kr_rbf_model, X_test, 'kr_rbf.csv')"
   ]
  },
  {
   "cell_type": "markdown",
   "metadata": {},
   "source": [
    "### Polynomial Kernel"
   ]
  },
  {
   "cell_type": "code",
   "execution_count": 86,
   "metadata": {
    "collapsed": true
   },
   "outputs": [],
   "source": [
    "scaled_selected_data = robust_scaler.fit_transform(selected_data)\n",
    "X_train = scaled_selected_data[:train.shape[0], ]\n",
    "X_test = scaled_selected_data[train.shape[0]:, ]"
   ]
  },
  {
   "cell_type": "code",
   "execution_count": 87,
   "metadata": {
    "collapsed": false
   },
   "outputs": [
    {
     "name": "stdout",
     "output_type": "stream",
     "text": [
      "Fitting 5 folds for each of 90 candidates, totalling 450 fits\n"
     ]
    },
    {
     "name": "stderr",
     "output_type": "stream",
     "text": [
      "[Parallel(n_jobs=-1)]: Done  34 tasks      | elapsed:    1.2s\n",
      "[Parallel(n_jobs=-1)]: Done 184 tasks      | elapsed:    5.8s\n",
      "[Parallel(n_jobs=-1)]: Done 434 tasks      | elapsed:   13.4s\n"
     ]
    },
    {
     "name": "stdout",
     "output_type": "stream",
     "text": [
      "The best score is 0.11851567362\n",
      "The best parameters are {'alpha': 10, 'coef0': 9, 'degree': 3}\n"
     ]
    },
    {
     "name": "stderr",
     "output_type": "stream",
     "text": [
      "[Parallel(n_jobs=-1)]: Done 450 out of 450 | elapsed:   14.2s finished\n"
     ]
    }
   ],
   "source": [
    "kr_plyn = KernelRidge(kernel = 'polynomial')\n",
    "param_grid = {'degree': [2, 3, 4], \n",
    "              'alpha': [1, 3, 10, 30, 40, 50],\n",
    "              #'coef0': np.logspace(-1, 4, 6)\n",
    "              'coef0': [9, 10, 11, 12, 15]\n",
    "             }\n",
    "grid_plyn = GridSearchCV(kr_plyn, cv = 5, param_grid=param_grid, n_jobs = -1, \n",
    "                         verbose = 1, scoring = rmse).fit(X_train, y)\n",
    "\n",
    "print \"The best score is %s\" %-grid_plyn.best_score_\n",
    "print \"The best parameters are %s\" % grid_plyn.best_params_"
   ]
  },
  {
   "cell_type": "code",
   "execution_count": 88,
   "metadata": {
    "collapsed": false
   },
   "outputs": [],
   "source": [
    "kr_plyn_model = grid_plyn.best_estimator_\n",
    "predict(kr_plyn_model, X_test, 'kr_plyn_model.csv')"
   ]
  },
  {
   "cell_type": "markdown",
   "metadata": {},
   "source": [
    "**\n",
    "So far, polynomial KernelRridge Regression works the best.\n",
    "**"
   ]
  },
  {
   "cell_type": "markdown",
   "metadata": {},
   "source": [
    "## ElasticNet"
   ]
  },
  {
   "cell_type": "code",
   "execution_count": 89,
   "metadata": {
    "collapsed": true
   },
   "outputs": [],
   "source": [
    "#X_train = all_data[:train.shape[0]]\n",
    "#X_test = all_data[train.shape[0]:]\n",
    "scaled_all_data = RobustScaler().fit_transform(all_data)\n",
    "X_train = scaled_all_data[:train.shape[0], ]\n",
    "X_test = scaled_all_data[train.shape[0]:, ]"
   ]
  },
  {
   "cell_type": "code",
   "execution_count": 90,
   "metadata": {
    "collapsed": false
   },
   "outputs": [
    {
     "name": "stdout",
     "output_type": "stream",
     "text": [
      "Fitting 5 folds for each of 24 candidates, totalling 120 fits\n"
     ]
    },
    {
     "name": "stderr",
     "output_type": "stream",
     "text": [
      "[Parallel(n_jobs=-1)]: Done  34 tasks      | elapsed:    3.3s\n",
      "[Parallel(n_jobs=-1)]: Done 120 out of 120 | elapsed:    4.9s finished\n"
     ]
    }
   ],
   "source": [
    "elanet = ElasticNet()\n",
    "param_grid = {'alpha': [0.0001, 0.001, 0.003, 0.01],\n",
    "              'l1_ratio': [0.1, 0.3, 0.5, 0.7, 0.75, 1]\n",
    "             }\n",
    "grid_ela = GridSearchCV(elanet, cv = 5, param_grid = param_grid, n_jobs = -1, \n",
    "                        scoring = rmse, verbose = 1).fit(X_train, y)"
   ]
  },
  {
   "cell_type": "code",
   "execution_count": 91,
   "metadata": {
    "collapsed": false
   },
   "outputs": [
    {
     "name": "stdout",
     "output_type": "stream",
     "text": [
      "The best scoring is 0.121763\n",
      "The best hyper-parameters are {'alpha': 0.001, 'l1_ratio': 0.5}\n"
     ]
    }
   ],
   "source": [
    "print \"The best scoring is %.6f\" %-grid_ela.best_score_\n",
    "print \"The best hyper-parameters are %s\" %grid_ela.best_params_"
   ]
  },
  {
   "cell_type": "code",
   "execution_count": 92,
   "metadata": {
    "collapsed": false
   },
   "outputs": [],
   "source": [
    "scores = pd.DataFrame(grid_ela.grid_scores_)\n",
    "scores.rename(columns={'mean_validation_score': 'rmse'}, inplace = True)\n",
    "scores['alpha'] = scores['parameters'].apply(lambda x: x['alpha'])\n",
    "scores['l1_ratio'] = scores['parameters'].apply(lambda x: x['l1_ratio'])\n",
    "scores.drop(labels = ['parameters', 'cv_validation_scores'], axis = 1, inplace = True)"
   ]
  },
  {
   "cell_type": "code",
   "execution_count": 93,
   "metadata": {
    "collapsed": false
   },
   "outputs": [
    {
     "data": {
      "text/plain": [
       "<matplotlib.axes._subplots.AxesSubplot at 0x119237490>"
      ]
     },
     "execution_count": 93,
     "metadata": {},
     "output_type": "execute_result"
    },
    {
     "data": {
      "image/png": "[encoded data removed]",
      "text/plain": [
       "<matplotlib.figure.Figure at 0x119bca0d0>"
      ]
     },
     "metadata": {},
     "output_type": "display_data"
    }
   ],
   "source": [
    "plt.figure(figsize=(10, 7.5))\n",
    "sns.heatmap(scores.pivot('alpha', 'l1_ratio', 'rmse'), annot=True, fmt = \".4f\")"
   ]
  },
  {
   "cell_type": "code",
   "execution_count": 94,
   "metadata": {
    "collapsed": true
   },
   "outputs": [],
   "source": [
    "predict(grid_ela, X_test, 'elasticNet.csv')"
   ]
  },
  {
   "cell_type": "code",
   "execution_count": null,
   "metadata": {
    "collapsed": true
   },
   "outputs": [],
   "source": []
  }
 ],
 "metadata": {
  "kernelspec": {
   "display_name": "Python 2",
   "language": "python",
   "name": "python2"
  },
  "language_info": {
   "codemirror_mode": {
    "name": "ipython",
    "version": 2
   },
   "file_extension": ".py",
   "mimetype": "text/x-python",
   "name": "python",
   "nbconvert_exporter": "python",
   "pygments_lexer": "ipython2",
   "version": "2.7.12"
  }
 },
 "nbformat": 4,
 "nbformat_minor": 0
}
