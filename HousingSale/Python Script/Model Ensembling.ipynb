{
 "cells": [
  {
   "cell_type": "code",
   "execution_count": 138,
   "metadata": {
    "collapsed": true,
    "scrolled": true
   },
   "outputs": [],
   "source": [
    "import os\n",
    "import pandas as pd\n",
    "import numpy as np\n",
    "path = r'/Users/xiaochangmiao/Documents/Course/Kaggle/HousingSale/Results'\n",
    "os.chdir(path)"
   ]
  },
  {
   "cell_type": "code",
   "execution_count": 139,
   "metadata": {
    "collapsed": true
   },
   "outputs": [],
   "source": [
    "csv_file = [f for f in os.listdir(path) if f.endswith('csv') ]"
   ]
  },
  {
   "cell_type": "code",
   "execution_count": 140,
   "metadata": {
    "collapsed": false
   },
   "outputs": [
    {
     "data": {
      "text/plain": [
       "['elasticNet.csv',\n",
       " 'kn_linear.csv',\n",
       " 'kr_plyn_model.csv',\n",
       " 'kr_rbf.csv',\n",
       " 'lasso_3.csv',\n",
       " 'lasso_new_feature.csv',\n",
       " 'lasso_rs.csv',\n",
       " 'lasso_sol.csv',\n",
       " 'xgBoostRidgeSubmission.csv']"
      ]
     },
     "execution_count": 140,
     "metadata": {},
     "output_type": "execute_result"
    }
   ],
   "source": [
    "csv_file"
   ]
  },
  {
   "cell_type": "code",
   "execution_count": 141,
   "metadata": {
    "collapsed": true
   },
   "outputs": [],
   "source": [
    "n = len(csv_file)"
   ]
  },
  {
   "cell_type": "code",
   "execution_count": 142,
   "metadata": {
    "collapsed": false
   },
   "outputs": [],
   "source": [
    "result = pd.DataFrame()\n",
    "for fp in csv_file:\n",
    "    df = pd.read_csv(fp)\n",
    "    result = pd.concat([result, df], axis = 1)"
   ]
  },
  {
   "cell_type": "code",
   "execution_count": 143,
   "metadata": {
    "collapsed": false
   },
   "outputs": [],
   "source": [
    "csv_file = [f for f in os.listdir(path +'/With Outliner Linear Regression') if f.endswith('csv')]\n",
    "\n",
    "for fp in csv_file:\n",
    "    df = pd.read_csv(path + '/With Outliner Linear Regression/' + fp)\n",
    "    result = pd.concat([result, df], axis = 1)"
   ]
  },
  {
   "cell_type": "code",
   "execution_count": 144,
   "metadata": {
    "collapsed": false
   },
   "outputs": [
    {
     "data": {
      "text/html": [
       "<div>\n",
       "<table border=\"1\" class=\"dataframe\">\n",
       "  <thead>\n",
       "    <tr style=\"text-align: right;\">\n",
       "      <th></th>\n",
       "      <th>Id</th>\n",
       "      <th>SalePrice</th>\n",
       "      <th>Id</th>\n",
       "      <th>SalePrice</th>\n",
       "      <th>Id</th>\n",
       "      <th>SalePrice</th>\n",
       "      <th>Id</th>\n",
       "      <th>SalePrice</th>\n",
       "      <th>Id</th>\n",
       "      <th>SalePrice</th>\n",
       "      <th>...</th>\n",
       "      <th>Id</th>\n",
       "      <th>SalePrice</th>\n",
       "      <th>Id</th>\n",
       "      <th>SalePrice</th>\n",
       "      <th>Id</th>\n",
       "      <th>SalePrice</th>\n",
       "      <th>Id</th>\n",
       "      <th>SalePrice</th>\n",
       "      <th>Id</th>\n",
       "      <th>SalePrice</th>\n",
       "    </tr>\n",
       "  </thead>\n",
       "  <tbody>\n",
       "    <tr>\n",
       "      <th>0</th>\n",
       "      <td>1461</td>\n",
       "      <td>117849.824305</td>\n",
       "      <td>1461</td>\n",
       "      <td>117038.108755</td>\n",
       "      <td>1461</td>\n",
       "      <td>122037.235028</td>\n",
       "      <td>1461</td>\n",
       "      <td>122548.648650</td>\n",
       "      <td>1461</td>\n",
       "      <td>119976.103147</td>\n",
       "      <td>...</td>\n",
       "      <td>1461</td>\n",
       "      <td>120836.592325</td>\n",
       "      <td>1461</td>\n",
       "      <td>119554.664979</td>\n",
       "      <td>1461</td>\n",
       "      <td>119705.248838</td>\n",
       "      <td>1461</td>\n",
       "      <td>118530.514057</td>\n",
       "      <td>1461</td>\n",
       "      <td>126049.254409</td>\n",
       "    </tr>\n",
       "    <tr>\n",
       "      <th>1</th>\n",
       "      <td>1462</td>\n",
       "      <td>151596.789525</td>\n",
       "      <td>1462</td>\n",
       "      <td>156388.514426</td>\n",
       "      <td>1462</td>\n",
       "      <td>160365.805128</td>\n",
       "      <td>1462</td>\n",
       "      <td>159895.352889</td>\n",
       "      <td>1462</td>\n",
       "      <td>151235.414151</td>\n",
       "      <td>...</td>\n",
       "      <td>1462</td>\n",
       "      <td>158001.832887</td>\n",
       "      <td>1462</td>\n",
       "      <td>149681.509750</td>\n",
       "      <td>1462</td>\n",
       "      <td>151636.007327</td>\n",
       "      <td>1462</td>\n",
       "      <td>151627.572297</td>\n",
       "      <td>1462</td>\n",
       "      <td>153592.064825</td>\n",
       "    </tr>\n",
       "    <tr>\n",
       "      <th>2</th>\n",
       "      <td>1463</td>\n",
       "      <td>179917.397720</td>\n",
       "      <td>1463</td>\n",
       "      <td>184584.870408</td>\n",
       "      <td>1463</td>\n",
       "      <td>184869.057229</td>\n",
       "      <td>1463</td>\n",
       "      <td>184807.297151</td>\n",
       "      <td>1463</td>\n",
       "      <td>179700.902265</td>\n",
       "      <td>...</td>\n",
       "      <td>1463</td>\n",
       "      <td>185228.321297</td>\n",
       "      <td>1463</td>\n",
       "      <td>176346.991484</td>\n",
       "      <td>1463</td>\n",
       "      <td>181268.440376</td>\n",
       "      <td>1463</td>\n",
       "      <td>181052.184322</td>\n",
       "      <td>1463</td>\n",
       "      <td>177878.303814</td>\n",
       "    </tr>\n",
       "    <tr>\n",
       "      <th>3</th>\n",
       "      <td>1464</td>\n",
       "      <td>197424.752631</td>\n",
       "      <td>1464</td>\n",
       "      <td>206376.650345</td>\n",
       "      <td>1464</td>\n",
       "      <td>201055.766963</td>\n",
       "      <td>1464</td>\n",
       "      <td>200829.143686</td>\n",
       "      <td>1464</td>\n",
       "      <td>197232.228758</td>\n",
       "      <td>...</td>\n",
       "      <td>1464</td>\n",
       "      <td>202663.525462</td>\n",
       "      <td>1464</td>\n",
       "      <td>193202.569203</td>\n",
       "      <td>1464</td>\n",
       "      <td>197830.052519</td>\n",
       "      <td>1464</td>\n",
       "      <td>197547.126588</td>\n",
       "      <td>1464</td>\n",
       "      <td>184749.356456</td>\n",
       "    </tr>\n",
       "    <tr>\n",
       "      <th>4</th>\n",
       "      <td>1465</td>\n",
       "      <td>199040.860391</td>\n",
       "      <td>1465</td>\n",
       "      <td>203155.904238</td>\n",
       "      <td>1465</td>\n",
       "      <td>203497.153263</td>\n",
       "      <td>1465</td>\n",
       "      <td>206151.564966</td>\n",
       "      <td>1465</td>\n",
       "      <td>199392.638320</td>\n",
       "      <td>...</td>\n",
       "      <td>1465</td>\n",
       "      <td>208012.671281</td>\n",
       "      <td>1465</td>\n",
       "      <td>200707.507411</td>\n",
       "      <td>1465</td>\n",
       "      <td>202530.610807</td>\n",
       "      <td>1465</td>\n",
       "      <td>201987.687559</td>\n",
       "      <td>1465</td>\n",
       "      <td>194699.413824</td>\n",
       "    </tr>\n",
       "  </tbody>\n",
       "</table>\n",
       "<p>5 rows × 34 columns</p>\n",
       "</div>"
      ],
      "text/plain": [
       "     Id      SalePrice    Id      SalePrice    Id      SalePrice    Id  \\\n",
       "0  1461  117849.824305  1461  117038.108755  1461  122037.235028  1461   \n",
       "1  1462  151596.789525  1462  156388.514426  1462  160365.805128  1462   \n",
       "2  1463  179917.397720  1463  184584.870408  1463  184869.057229  1463   \n",
       "3  1464  197424.752631  1464  206376.650345  1464  201055.766963  1464   \n",
       "4  1465  199040.860391  1465  203155.904238  1465  203497.153263  1465   \n",
       "\n",
       "       SalePrice    Id      SalePrice      ...          Id      SalePrice  \\\n",
       "0  122548.648650  1461  119976.103147      ...        1461  120836.592325   \n",
       "1  159895.352889  1462  151235.414151      ...        1462  158001.832887   \n",
       "2  184807.297151  1463  179700.902265      ...        1463  185228.321297   \n",
       "3  200829.143686  1464  197232.228758      ...        1464  202663.525462   \n",
       "4  206151.564966  1465  199392.638320      ...        1465  208012.671281   \n",
       "\n",
       "     Id      SalePrice    Id      SalePrice    Id      SalePrice    Id  \\\n",
       "0  1461  119554.664979  1461  119705.248838  1461  118530.514057  1461   \n",
       "1  1462  149681.509750  1462  151636.007327  1462  151627.572297  1462   \n",
       "2  1463  176346.991484  1463  181268.440376  1463  181052.184322  1463   \n",
       "3  1464  193202.569203  1464  197830.052519  1464  197547.126588  1464   \n",
       "4  1465  200707.507411  1465  202530.610807  1465  201987.687559  1465   \n",
       "\n",
       "       SalePrice  \n",
       "0  126049.254409  \n",
       "1  153592.064825  \n",
       "2  177878.303814  \n",
       "3  184749.356456  \n",
       "4  194699.413824  \n",
       "\n",
       "[5 rows x 34 columns]"
      ]
     },
     "execution_count": 144,
     "metadata": {},
     "output_type": "execute_result"
    }
   ],
   "source": [
    "# result = result.drop('Id', axis = 1).mean(1).values\n",
    "# result\n",
    "result.head()"
   ]
  },
  {
   "cell_type": "code",
   "execution_count": 145,
   "metadata": {
    "collapsed": false
   },
   "outputs": [],
   "source": [
    "submit = pd.read_csv('/Users/xiaochangmiao/Documents/Course/Kaggle/HousingSale/sample_submission.csv')"
   ]
  },
  {
   "cell_type": "code",
   "execution_count": 146,
   "metadata": {
    "collapsed": false
   },
   "outputs": [],
   "source": [
    "submit.loc[:, 'SalePrice'] = result"
   ]
  },
  {
   "cell_type": "code",
   "execution_count": 147,
   "metadata": {
    "collapsed": false
   },
   "outputs": [
    {
     "data": {
      "text/html": [
       "<div>\n",
       "<table border=\"1\" class=\"dataframe\">\n",
       "  <thead>\n",
       "    <tr style=\"text-align: right;\">\n",
       "      <th></th>\n",
       "      <th>Id</th>\n",
       "      <th>SalePrice</th>\n",
       "    </tr>\n",
       "  </thead>\n",
       "  <tbody>\n",
       "    <tr>\n",
       "      <th>0</th>\n",
       "      <td>1461</td>\n",
       "      <td>117849.824305</td>\n",
       "    </tr>\n",
       "    <tr>\n",
       "      <th>1</th>\n",
       "      <td>1462</td>\n",
       "      <td>151596.789525</td>\n",
       "    </tr>\n",
       "    <tr>\n",
       "      <th>2</th>\n",
       "      <td>1463</td>\n",
       "      <td>179917.397720</td>\n",
       "    </tr>\n",
       "    <tr>\n",
       "      <th>3</th>\n",
       "      <td>1464</td>\n",
       "      <td>197424.752631</td>\n",
       "    </tr>\n",
       "    <tr>\n",
       "      <th>4</th>\n",
       "      <td>1465</td>\n",
       "      <td>199040.860391</td>\n",
       "    </tr>\n",
       "  </tbody>\n",
       "</table>\n",
       "</div>"
      ],
      "text/plain": [
       "     Id      SalePrice\n",
       "0  1461  117849.824305\n",
       "1  1462  151596.789525\n",
       "2  1463  179917.397720\n",
       "3  1464  197424.752631\n",
       "4  1465  199040.860391"
      ]
     },
     "execution_count": 147,
     "metadata": {},
     "output_type": "execute_result"
    }
   ],
   "source": [
    "submit.head()"
   ]
  },
  {
   "cell_type": "code",
   "execution_count": 148,
   "metadata": {
    "collapsed": true
   },
   "outputs": [],
   "source": [
    "submit.to_csv('Ensemble.csv', index=False)"
   ]
  },
  {
   "cell_type": "code",
   "execution_count": null,
   "metadata": {
    "collapsed": true
   },
   "outputs": [],
   "source": []
  }
 ],
 "metadata": {
  "kernelspec": {
   "display_name": "Python 2",
   "language": "python",
   "name": "python2"
  },
  "language_info": {
   "codemirror_mode": {
    "name": "ipython",
    "version": 2
   },
   "file_extension": ".py",
   "mimetype": "text/x-python",
   "name": "python",
   "nbconvert_exporter": "python",
   "pygments_lexer": "ipython2",
   "version": "2.7.12"
  }
 },
 "nbformat": 4,
 "nbformat_minor": 0
}
